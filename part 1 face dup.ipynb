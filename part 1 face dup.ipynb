{
 "cells": [
  {
   "cell_type": "code",
   "execution_count": 1,
   "id": "24891d60",
   "metadata": {},
   "outputs": [],
   "source": [
    "from deepface import DeepFace"
   ]
  },
  {
   "cell_type": "code",
   "execution_count": 2,
   "id": "2db21506",
   "metadata": {},
   "outputs": [],
   "source": [
    "import cv2"
   ]
  },
  {
   "cell_type": "code",
   "execution_count": 3,
   "id": "3ba791ae",
   "metadata": {},
   "outputs": [
    {
     "name": "stdout",
     "output_type": "stream",
     "text": [
      "WARNING: Representations for images in ./Database/ folder were previously stored in representations_arcface.pkl. If you added new instances after the creation, then please delete this file and call find function again. It will create it again.\n",
      "There are  6  representations found in  representations_arcface.pkl\n",
      "find function lasts  2.041492462158203  seconds\n",
      "WARNING: Representations for images in ./Database/ folder were previously stored in representations_arcface.pkl. If you added new instances after the creation, then please delete this file and call find function again. It will create it again.\n",
      "There are  6  representations found in  representations_arcface.pkl\n",
      "find function lasts  0.08182048797607422  seconds\n",
      "WARNING: Representations for images in ./Database/ folder were previously stored in representations_arcface.pkl. If you added new instances after the creation, then please delete this file and call find function again. It will create it again.\n",
      "There are  6  representations found in  representations_arcface.pkl\n",
      "find function lasts  0.08633685111999512  seconds\n",
      "WARNING: Representations for images in ./Database/ folder were previously stored in representations_arcface.pkl. If you added new instances after the creation, then please delete this file and call find function again. It will create it again.\n",
      "There are  6  representations found in  representations_arcface.pkl\n",
      "find function lasts  0.09348893165588379  seconds\n",
      "WARNING: Representations for images in ./Database/ folder were previously stored in representations_arcface.pkl. If you added new instances after the creation, then please delete this file and call find function again. It will create it again.\n",
      "There are  6  representations found in  representations_arcface.pkl\n",
      "find function lasts  0.08810687065124512  seconds\n",
      "WARNING: Representations for images in ./Database/ folder were previously stored in representations_arcface.pkl. If you added new instances after the creation, then please delete this file and call find function again. It will create it again.\n",
      "There are  6  representations found in  representations_arcface.pkl\n",
      "find function lasts  0.08539509773254395  seconds\n",
      "WARNING: Representations for images in ./Database/ folder were previously stored in representations_arcface.pkl. If you added new instances after the creation, then please delete this file and call find function again. It will create it again.\n",
      "There are  6  representations found in  representations_arcface.pkl\n",
      "find function lasts  0.08555054664611816  seconds\n",
      "WARNING: Representations for images in ./Database/ folder were previously stored in representations_arcface.pkl. If you added new instances after the creation, then please delete this file and call find function again. It will create it again.\n",
      "There are  6  representations found in  representations_arcface.pkl\n",
      "find function lasts  0.0953209400177002  seconds\n",
      "WARNING: Representations for images in ./Database/ folder were previously stored in representations_arcface.pkl. If you added new instances after the creation, then please delete this file and call find function again. It will create it again.\n",
      "There are  6  representations found in  representations_arcface.pkl\n",
      "find function lasts  0.09419012069702148  seconds\n",
      "WARNING: Representations for images in ./Database/ folder were previously stored in representations_arcface.pkl. If you added new instances after the creation, then please delete this file and call find function again. It will create it again.\n",
      "There are  6  representations found in  representations_arcface.pkl\n",
      "find function lasts  0.0937502384185791  seconds\n",
      "WARNING: Representations for images in ./Database/ folder were previously stored in representations_arcface.pkl. If you added new instances after the creation, then please delete this file and call find function again. It will create it again.\n",
      "There are  6  representations found in  representations_arcface.pkl\n",
      "find function lasts  0.09703397750854492  seconds\n",
      "WARNING: Representations for images in ./Database/ folder were previously stored in representations_arcface.pkl. If you added new instances after the creation, then please delete this file and call find function again. It will create it again.\n",
      "There are  6  representations found in  representations_arcface.pkl\n",
      "find function lasts  0.08086657524108887  seconds\n",
      "WARNING: Representations for images in ./Database/ folder were previously stored in representations_arcface.pkl. If you added new instances after the creation, then please delete this file and call find function again. It will create it again.\n",
      "There are  6  representations found in  representations_arcface.pkl\n",
      "find function lasts  0.09419465065002441  seconds\n",
      "WARNING: Representations for images in ./Database/ folder were previously stored in representations_arcface.pkl. If you added new instances after the creation, then please delete this file and call find function again. It will create it again.\n",
      "There are  6  representations found in  representations_arcface.pkl\n",
      "find function lasts  0.07972335815429688  seconds\n",
      "WARNING: Representations for images in ./Database/ folder were previously stored in representations_arcface.pkl. If you added new instances after the creation, then please delete this file and call find function again. It will create it again.\n",
      "There are  6  representations found in  representations_arcface.pkl\n",
      "find function lasts  0.09420371055603027  seconds\n",
      "WARNING: Representations for images in ./Database/ folder were previously stored in representations_arcface.pkl. If you added new instances after the creation, then please delete this file and call find function again. It will create it again.\n",
      "There are  6  representations found in  representations_arcface.pkl\n",
      "find function lasts  0.09482741355895996  seconds\n",
      "WARNING: Representations for images in ./Database/ folder were previously stored in representations_arcface.pkl. If you added new instances after the creation, then please delete this file and call find function again. It will create it again.\n",
      "There are  6  representations found in  representations_arcface.pkl\n",
      "find function lasts  0.09418725967407227  seconds\n",
      "WARNING: Representations for images in ./Database/ folder were previously stored in representations_arcface.pkl. If you added new instances after the creation, then please delete this file and call find function again. It will create it again.\n",
      "There are  6  representations found in  representations_arcface.pkl\n",
      "find function lasts  0.08766508102416992  seconds\n",
      "WARNING: Representations for images in ./Database/ folder were previously stored in representations_arcface.pkl. If you added new instances after the creation, then please delete this file and call find function again. It will create it again.\n",
      "There are  6  representations found in  representations_arcface.pkl\n",
      "find function lasts  0.07854509353637695  seconds\n",
      "WARNING: Representations for images in ./Database/ folder were previously stored in representations_arcface.pkl. If you added new instances after the creation, then please delete this file and call find function again. It will create it again.\n",
      "There are  6  representations found in  representations_arcface.pkl\n",
      "find function lasts  0.08980774879455566  seconds\n",
      "WARNING: Representations for images in ./Database/ folder were previously stored in representations_arcface.pkl. If you added new instances after the creation, then please delete this file and call find function again. It will create it again.\n",
      "There are  6  representations found in  representations_arcface.pkl\n",
      "find function lasts  0.09416484832763672  seconds\n",
      "WARNING: Representations for images in ./Database/ folder were previously stored in representations_arcface.pkl. If you added new instances after the creation, then please delete this file and call find function again. It will create it again.\n",
      "There are  6  representations found in  representations_arcface.pkl\n",
      "find function lasts  0.09032130241394043  seconds\n",
      "WARNING: Representations for images in ./Database/ folder were previously stored in representations_arcface.pkl. If you added new instances after the creation, then please delete this file and call find function again. It will create it again.\n",
      "There are  6  representations found in  representations_arcface.pkl\n",
      "find function lasts  0.09416460990905762  seconds\n"
     ]
    },
    {
     "name": "stdout",
     "output_type": "stream",
     "text": [
      "WARNING: Representations for images in ./Database/ folder were previously stored in representations_arcface.pkl. If you added new instances after the creation, then please delete this file and call find function again. It will create it again.\n",
      "There are  6  representations found in  representations_arcface.pkl\n",
      "find function lasts  0.0796670913696289  seconds\n",
      "WARNING: Representations for images in ./Database/ folder were previously stored in representations_arcface.pkl. If you added new instances after the creation, then please delete this file and call find function again. It will create it again.\n",
      "There are  6  representations found in  representations_arcface.pkl\n",
      "find function lasts  0.09410214424133301  seconds\n",
      "WARNING: Representations for images in ./Database/ folder were previously stored in representations_arcface.pkl. If you added new instances after the creation, then please delete this file and call find function again. It will create it again.\n",
      "There are  6  representations found in  representations_arcface.pkl\n",
      "find function lasts  0.08382010459899902  seconds\n",
      "WARNING: Representations for images in ./Database/ folder were previously stored in representations_arcface.pkl. If you added new instances after the creation, then please delete this file and call find function again. It will create it again.\n",
      "There are  6  representations found in  representations_arcface.pkl\n",
      "find function lasts  0.09418725967407227  seconds\n",
      "WARNING: Representations for images in ./Database/ folder were previously stored in representations_arcface.pkl. If you added new instances after the creation, then please delete this file and call find function again. It will create it again.\n",
      "There are  6  representations found in  representations_arcface.pkl\n",
      "find function lasts  0.08589839935302734  seconds\n",
      "WARNING: Representations for images in ./Database/ folder were previously stored in representations_arcface.pkl. If you added new instances after the creation, then please delete this file and call find function again. It will create it again.\n",
      "There are  6  representations found in  representations_arcface.pkl\n",
      "find function lasts  0.0835413932800293  seconds\n",
      "WARNING: Representations for images in ./Database/ folder were previously stored in representations_arcface.pkl. If you added new instances after the creation, then please delete this file and call find function again. It will create it again.\n",
      "There are  6  representations found in  representations_arcface.pkl\n",
      "find function lasts  0.09301161766052246  seconds\n",
      "WARNING: Representations for images in ./Database/ folder were previously stored in representations_arcface.pkl. If you added new instances after the creation, then please delete this file and call find function again. It will create it again.\n",
      "There are  6  representations found in  representations_arcface.pkl\n",
      "find function lasts  0.09418797492980957  seconds\n"
     ]
    }
   ],
   "source": [
    "cap = cv2.VideoCapture(0)\n",
    "\n",
    "while True:\n",
    "    state, frame = cap.read()\n",
    "\n",
    "    if state != True:\n",
    "        break\n",
    "\n",
    "    res = DeepFace.find(frame, db_path='./Database/', enforce_detection=False, model_name='ArcFace')\n",
    "    \n",
    "    \n",
    "    if len(res[0]['identity'])>0:\n",
    "        \n",
    "        name = res[0]['identity'][0].split('/')[1].split('\\\\')[1]\n",
    "        xmin = int(res[0]['source_x'][0])\n",
    "        ymin = int(res[0]['source_y'][0])\n",
    "        \n",
    "        w = res[0]['source_w'][0]\n",
    "        h = res[0]['source_h'][0]\n",
    "        \n",
    "        xmax = int(xmin + w)\n",
    "        ymax = int(ymin + h)\n",
    "        \n",
    "        cv2.rectangle(frame, (xmin,ymin),(xmax,ymax),(0,0,255,0),1)\n",
    "        cv2.rectangle(frame, (xmin, ymin-25),(xmax, ymin),(255, 255, 255), -1)\n",
    "        cv2.putText(frame, name, (xmin,ymin), cv2.FONT_HERSHEY_SIMPLEX, 1, (255,0,0),2,cv2.LINE_AA)\n",
    "\n",
    "        cv2.imshow('attendance', frame)\n",
    "        c = cv2.waitKey(1)\n",
    "\n",
    "    \n",
    "\n",
    "        if c == ord('q'):\n",
    "            break\n",
    "\n",
    "cap.release()\n",
    "cv2.destroyAllWindows()\n"
   ]
  },
  {
   "cell_type": "code",
   "execution_count": 4,
   "id": "f9022037",
   "metadata": {},
   "outputs": [
    {
     "name": "stdout",
     "output_type": "stream",
     "text": [
      "WARNING: Representations for images in ./Database folder were previously stored in representations_arcface.pkl. If you added new instances after the creation, then please delete this file and call find function again. It will create it again.\n",
      "There are  6  representations found in  representations_arcface.pkl\n",
      "find function lasts  0.09998941421508789  seconds\n"
     ]
    }
   ],
   "source": [
    "model = DeepFace.find(img_path='test.jpeg' ,db_path='./Database', enforce_detection=False, model_name='ArcFace')"
   ]
  },
  {
   "cell_type": "code",
   "execution_count": 5,
   "id": "29417848",
   "metadata": {},
   "outputs": [
    {
     "data": {
      "text/plain": [
       "'Elon'"
      ]
     },
     "execution_count": 5,
     "metadata": {},
     "output_type": "execute_result"
    }
   ],
   "source": [
    "model[0]['identity'][0].split('/')[1].split('\\\\')[1]"
   ]
  },
  {
   "cell_type": "code",
   "execution_count": null,
   "id": "a4e0fe47",
   "metadata": {},
   "outputs": [],
   "source": []
  }
 ],
 "metadata": {
  "kernelspec": {
   "display_name": "Python 3 (ipykernel)",
   "language": "python",
   "name": "python3"
  },
  "language_info": {
   "codemirror_mode": {
    "name": "ipython",
    "version": 3
   },
   "file_extension": ".py",
   "mimetype": "text/x-python",
   "name": "python",
   "nbconvert_exporter": "python",
   "pygments_lexer": "ipython3",
   "version": "3.11.4"
  }
 },
 "nbformat": 4,
 "nbformat_minor": 5
}
